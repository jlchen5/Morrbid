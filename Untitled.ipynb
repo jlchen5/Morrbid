#import necessary python packages
import scanpy as sc 
import os
import matplotlib.pyplot as plt
import seaborn as sns
import pandas as pd
import numpy as np
import scipy
import pooch
import omicverse as ov
import anndata
import re
# 文件所在的目录路径
filePath = r"/Users/jialechen/Desktop/Analysis_work/Morrbid/scRNAseq2"
# 生成文件的完整路径列表
file_paths = ['{}/GSM5813881_sham_filtered_feature_bc_matrix.h5'.format(filePath),
             '{}/GSM5813883_formed_filtered_feature_bc_matrix.h5'.format(filePath),
             '{}/GSM5813885_ruptured_filtered_feature_bc_matrix.h5'.format(filePath)]
adatas = []


for file_path in file_paths:
    # 读取 h5 文件
    sample_adata = sc.read_10x_h5(file_path)
    # 确保变量名的唯一性
    sample_adata.var_names_make_unique()
    # 假设你知道每个文件对应的样本名称，这里可以添加更多元数据
    sample_name = file_path.split('/')[-1].split('_filtered_feature_bc_matrix.h5')[0]
    # 在 obs 中添加 sample_name 作为新列
    sample_adata.obs['sample_name'] = sample_name
    adatas.append(sample_adata)


# 拼接数据
adata = anndata.concat(adatas, label="sample")
# 确保观测名的唯一性
adata.obs_names_make_unique()


# 修改 sample 列，去掉 GSM 号
adata.obs['sample'] = adata.obs['sample_name'].apply(lambda x: re.sub(r'GSM[0-9]+_', '', x))


# 删除 sample_name 列
adata.obs.drop(columns=['sample_name'], inplace=True)


print(adata.obs["sample"].value_counts())
print(adata)
adata.obs['sample'].unique()
adata.obs
# mitochondrial genes, "MT-" for human, "Mt-" for mouse
adata.var["mt"] = adata.var_names.str.startswith("MT-")
# ribosomal genes
adata.var["ribo"] = adata.var_names.str.startswith(("RPS", "RPL"))
# hemoglobin genes
adata.var["hb"] = adata.var_names.str.contains("^HB[^(P)]")
sc.pp.calculate_qc_metrics(
    adata, qc_vars=["mt", "ribo", "hb"], inplace=True, log1p=True
)
sc.pl.violin(
    adata,
    ["n_genes_by_counts", "total_counts", "pct_counts_mt"],
    jitter=0.4,
    multi_panel=True,
)
sc.pl.scatter(adata, "total_counts", "n_genes_by_counts", color="pct_counts_mt")
sc.pp.filter_cells(adata, min_genes=100)
sc.pp.filter_genes(adata, min_cells=3)
# Saving count data
adata.layers["counts"] = adata.X.copy()
# Normalizing to median total counts
sc.pp.normalize_total(adata)
# Logarithmize the data
sc.pp.log1p(adata)
sc.pp.highly_variable_genes(adata, n_top_genes=2000, batch_key="sample")
sc.pl.highly_variable_genes(adata)
sc.tl.pca(adata)
sc.pl.pca_variance_ratio(adata, n_pcs=50, log=True)
sc.pl.pca(
    adata,
    color=["sample"],
    dimensions=[(0, 1), (2, 3)],
    ncols=1,
    size=2,
)
sc.pp.neighbors(adata)
sc.tl.umap(adata)
sc.pl.umap(
    adata,
    color="sample",
    # Setting a smaller point size to get prevent overlap
    size=2,
)
# Using the igraph implementation and a fixed number of iterations can be significantly faster, especially for larger datasets
sc.tl.leiden(adata, n_iterations=2)
sc.pl.umap(adata, color=["leiden"])
for res in [0.02, 0.1, 0.5]:
    sc.tl.leiden(
        adata, key_added=f"leiden_res_{res:4.2f}", resolution=res
    )
sc.pl.umap(
    adata,
    color=["leiden_res_0.02", "leiden_res_0.10", "leiden_res_0.50"],
    legend_loc="on data",
)
marker_genes = {
    "VSMC":["Myh11", "Tagln", "Acta2"],
    "Mo/MФ":["Cd68", "C1qa", "C1qb"],
    "Neutrophil":["S100a9", "S100a8", "Lcn2"],  
    "Fibroblast":["Dcn", "Col1a1", "Lum"],  
    "Endothelium":["Cdh5", "Pecam1", "Esam"],  
    "T lymphocyte":["Cd3d","Cd3g","Cd28"],  
    "Pericyte":["Rgs5", "Rgs16", "Kcnj8"],  
    "B lymphocyte":["Cd79a","Cd79b","Ly6d"],  
    "Dendritic cells":["Cd209a", "Ccr7", "Ifitm1"],  
    "Mast cells":["Mcpt4", "Cma1", "Tpsb2"],  
    }
sc.pl.dotplot(adata, marker_genes, groupby="leiden_res_0.10", standard_scale="var")
adata.obs["cell_type"] = adata.obs["leiden_res_0.10"].map(
    {
        "0": "VSMC",
        "1": "Mo/MФ",
        "2": "Neutrophil",
        "3": "VSMC",
        "4": "Fibroblast",
        "5": "Endothelium",
        "6": "VSMC",
        "7": "T lymphocyte",
        "8": "VSMC",
        "9": "B lymphocyte",
        "10": "Pericyte",
        "11": "Mast cells",
    }
)
sc.pl.dotplot(adata, marker_genes, groupby="leiden_res_0.50", standard_scale="var")

# Obtain cluster-specific differentially expressed genes
sc.tl.rank_genes_groups(adata, groupby="leiden_res_0.10", method="wilcoxon")
sc.pl.rank_genes_groups_dotplot(
    adata, groupby="leiden_res_0.10", standard_scale="var", n_genes=5
)
sc.get.rank_genes_groups_df(adata, group="1").head(5)
sc.pl.umap(
    adata,
    color=["Cpt2","Atf4","cell_type"],
)
sc.pl.violin(adata, ["Cpt2","Atf4"], groupby="cell_type",rotation=90)
sc.pl.stacked_violin(adata, marker_genes, groupby="cell_type")
# save the data
adata.write("morrbid.h5ad")

sc.tl.rank_genes_groups(adata, 'sample', groups=['ruptured'], reference='sham', method='wilcoxon')
sc.pl.rank_genes_groups(adata, groups=['ruptured'], n_genes=50)
sc.pl.rank_genes_groups_violin(adata, groups='ruptured', n_genes=10)

# plot the same genes as violins across all the datasets.

# convert numpy.recarray to list
mynames = [x[0] for x in adata.uns['rank_genes_groups']['names'][:10]]
sc.pl.stacked_violin(adata, mynames, groupby = 'cell_type', rotation = 90)
sc.tl.rank_genes_groups(adata, 'sample', groups=['formed'], reference='sham', method='wilcoxon')
sc.pl.rank_genes_groups(adata, groups=['formed'], n_genes=50)
sc.pl.rank_genes_groups_violin(adata, groups='formed', n_genes=10)

# plot the same genes as violins across all the datasets.

# convert numpy.recarray to list
mynames = [x[0] for x in adata.uns['rank_genes_groups']['names'][:10]]
sc.pl.stacked_violin(adata, mynames, groupby = 'cell_type', rotation = 90)




gene_rank = sc.get.rank_genes_groups_df(adata, group='formed')[['names','logfoldchanges']]
gene_rank.sort_values(by=['logfoldchanges'], inplace=True, ascending=False)

# calculate_qc_metrics will calculate number of cells per gene
sc.pp.calculate_qc_metrics(adata, percent_top=None, log1p=False, inplace=True)

# filter for genes expressed in at least 30 cells.
gene_rank = gene_rank[gene_rank['names'].isin(adata.var_names[adata.var.n_cells_by_counts>30])]


gene_rank['names'] = gene_rank['names'].str.upper()
gene_rank
gene_list = gene_rank['names'] 
glist = gene_list.squeeze().str.strip().to_list()
print(glist[:10])
enr = gp.enrichr(gene_list=glist, # or "./tests/data/gene_list.txt",
                 gene_sets='MSigDB_Hallmark_2020',
                 organism='Mouse', # don't forget to set organism to the one you desired! e.g. Yeast
                 outdir=None, # don't write to disk
                )
enr.results.head(5)
from gseapy import barplot, dotplot
# categorical scatterplot
ax = barplot(enr.results,
              column="Adjusted P-value",
              group='Gene_set', # set group, so you could do a multi-sample/library comparsion
              size=10,
              top_term=10,
              figsize=(3,5),
             )
ax = dotplot(enr.res2d, title='KEGG',cmap='viridis_r', size=2, figsize=(3,5))



